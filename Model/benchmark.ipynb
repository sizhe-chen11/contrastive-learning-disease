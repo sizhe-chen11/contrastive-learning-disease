{
 "cells": [
  {
   "cell_type": "code",
   "execution_count": 4,
   "metadata": {},
   "outputs": [],
   "source": [
    "# Imports \n",
    "import pandas as pd\n",
    "import numpy as np\n",
    "from sklearn.model_selection import GridSearchCV\n",
    "from sklearn.metrics import roc_auc_score, accuracy_score, f1_score, accuracy_score, classification_report\n",
    "from sklearn.preprocessing import label_binarize\n",
    "\n",
    "from sklearn.linear_model import LogisticRegression\n",
    "from sklearn.svm import SVC\n",
    "from sklearn.ensemble import RandomForestClassifier\n",
    "from sklearn.tree import DecisionTreeClassifier\n",
    "from sklearn.naive_bayes import GaussianNB\n",
    "import os"
   ]
  },
  {
   "cell_type": "markdown",
   "metadata": {},
   "source": [
    "Loading Preprocessed Data"
   ]
  },
  {
   "cell_type": "code",
   "execution_count": 3,
   "metadata": {},
   "outputs": [
    {
     "name": "stdout",
     "output_type": "stream",
     "text": [
      "X_train shape: (3526, 130)\n",
      "X_test shape: (882, 130)\n"
     ]
    }
   ],
   "source": [
    "DATA_DIR = \"../Data/train_test_data/\"\n",
    "\n",
    "# Load datasets from Parquet files\n",
    "train_df = pd.read_csv(os.path.join(DATA_DIR, \"train.csv\"))\n",
    "val_df = pd.read_csv(os.path.join(DATA_DIR, \"val.csv\"))\n",
    "test_df = pd.read_csv(os.path.join(DATA_DIR, \"test.csv\"))\n",
    "# Replace invalid characters in column names\n",
    "train_df.columns = [col.replace('<', '').replace('[', '').replace(']', '').replace(',', '') for col in train_df.columns]\n",
    "val_df.columns = [col.replace('<', '').replace('[', '').replace(']', '').replace(',', '') for col in val_df.columns]\n",
    "test_df.columns = [col.replace('<', '').replace('[', '').replace(']', '').replace(',', '') for col in test_df.columns]\n",
    "\n",
    "# Separate features and targets\n",
    "X_train = train_df.drop('target', axis=1)\n",
    "y_train = train_df['target']\n",
    "X_val = val_df.drop('target', axis=1)\n",
    "y_val = val_df['target']\n",
    "X_test = test_df.drop('target', axis=1)\n",
    "y_test = test_df['target']\n",
    "\n",
    "# Convetntional Benchmark Using GridSearch for hyper param tuning\n",
    "# Separate features and targets\n",
    "X_train = pd.concat([X_train, X_val], axis=0)\n",
    "y_train = pd.concat([y_train, y_val], axis=0)\n",
    "\n",
    "print(\"X_train shape:\", X_train.shape)\n",
    "print(\"X_test shape:\", X_test.shape)"
   ]
  },
  {
   "cell_type": "code",
   "execution_count": 5,
   "metadata": {},
   "outputs": [],
   "source": [
    "def calculate_auc(y_true, y_prob):\n",
    "  n_classes = len(np.unique(y_true))\n",
    "  y_true_binarized = label_binarize(y_true.values, classes=np.arange(n_classes))\n",
    "\n",
    "  auc_scores = roc_auc_score(y_true_binarized, y_prob, multi_class='ovr', average=None)\n",
    "  for i, auc_score in enumerate(auc_scores):\n",
    "    print(f\"Class {i} AUC: {auc_score:.4f}\")\n",
    "  overall_auc_macro = roc_auc_score(y_true_binarized, y_prob, multi_class='ovr', average='macro')\n",
    "  print(f\"Overall AUC (Macro-average): {overall_auc_macro:.4f}\")\n",
    "  return"
   ]
  },
  {
   "cell_type": "code",
   "execution_count": 6,
   "metadata": {},
   "outputs": [],
   "source": [
    "def perform_grid_search(model, param_grid, X_train, y_train, X_test, y_test):\n",
    "    \"\"\"\n",
    "    Performs grid search to find the best model parameters and evaluates the model.\n",
    "\n",
    "    Args:\n",
    "    model (estimator): The machine learning model to tune.\n",
    "    param_grid (dict): Dictionary with parameters names (str) as keys and lists of parameter settings to try as values.\n",
    "    X_train (array-like): Training data features.\n",
    "    y_train (array-like): Training data labels.\n",
    "    X_test (array-like): Test data features.\n",
    "    y_test (array-like): Test data labels.\n",
    "\n",
    "    Returns:\n",
    "    dict: A dictionary containing the best parameters, best cross-validation score, test accuracy, and classification report.\n",
    "    \"\"\"\n",
    "    # Initialize the GridSearchCV object\n",
    "    grid_search = GridSearchCV(estimator=model, param_grid=param_grid, cv=5, scoring='accuracy', verbose=1, n_jobs=-1)\n",
    "    grid_search.fit(X_train, y_train)\n",
    "\n",
    "    # Output the best parameters and the best cross-validation score\n",
    "    print(\"Best parameters:\", grid_search.best_params_)\n",
    "    print(\"Best cross-validation score: {:.2f}%\".format(grid_search.best_score_ * 100))\n",
    "\n",
    "    # Evaluate on the test set with the best found parameters\n",
    "    best_model = grid_search.best_estimator_\n",
    "    y_test_pred = best_model.predict(X_test)\n",
    "    y_test_proba = best_model.predict_proba(X_test)\n",
    "    calculate_auc(y_test, y_test_proba)\n",
    "    class_report = classification_report(y_test, y_test_pred, zero_division=0)\n",
    "    print(class_report)\n",
    "\n",
    "    return"
   ]
  },
  {
   "cell_type": "code",
   "execution_count": 7,
   "metadata": {},
   "outputs": [
    {
     "name": "stdout",
     "output_type": "stream",
     "text": [
      "Fitting 5 folds for each of 3 candidates, totalling 15 fits\n",
      "Best parameters: {'C': 1}\n",
      "Best cross-validation score: 83.58%\n",
      "Class 0 AUC: 0.7687\n",
      "Class 1 AUC: 0.6762\n",
      "Class 2 AUC: 0.8082\n",
      "Class 3 AUC: 0.9470\n",
      "Class 4 AUC: 0.8529\n",
      "Overall AUC (Macro-average): 0.8106\n",
      "              precision    recall  f1-score   support\n",
      "\n",
      "           0       0.84      0.99      0.91       734\n",
      "           1       0.00      0.00      0.00         7\n",
      "           2       0.31      0.04      0.07       107\n",
      "           3       0.00      0.00      0.00        31\n",
      "           4       0.00      0.00      0.00         3\n",
      "\n",
      "    accuracy                           0.83       882\n",
      "   macro avg       0.23      0.21      0.19       882\n",
      "weighted avg       0.73      0.83      0.76       882\n",
      "\n"
     ]
    }
   ],
   "source": [
    "# SVM\n",
    "svm = SVC(probability=True, random_state=42)\n",
    "param_grid = {\n",
    "    'C': [1, 10, 100]\n",
    "}\n",
    "perform_grid_search(svm, param_grid, X_train, y_train, X_test, y_test)"
   ]
  },
  {
   "cell_type": "code",
   "execution_count": 8,
   "metadata": {},
   "outputs": [
    {
     "name": "stdout",
     "output_type": "stream",
     "text": [
      "Fitting 5 folds for each of 36 candidates, totalling 180 fits\n",
      "Best parameters: {'max_depth': 10, 'min_samples_leaf': 2, 'min_samples_split': 5}\n",
      "Best cross-validation score: 80.54%\n",
      "Class 0 AUC: 0.5788\n",
      "Class 1 AUC: 0.5737\n",
      "Class 2 AUC: 0.6637\n",
      "Class 3 AUC: 0.4650\n",
      "Class 4 AUC: 0.4613\n",
      "Overall AUC (Macro-average): 0.5485\n",
      "              precision    recall  f1-score   support\n",
      "\n",
      "           0       0.86      0.91      0.88       734\n",
      "           1       0.00      0.00      0.00         7\n",
      "           2       0.36      0.29      0.32       107\n",
      "           3       0.29      0.16      0.21        31\n",
      "           4       0.00      0.00      0.00         3\n",
      "\n",
      "    accuracy                           0.80       882\n",
      "   macro avg       0.30      0.27      0.28       882\n",
      "weighted avg       0.77      0.80      0.78       882\n",
      "\n"
     ]
    }
   ],
   "source": [
    "# Decision Tree\n",
    "dt_clf = DecisionTreeClassifier(random_state=2023)\n",
    "param_grid = {'max_depth': [None, 10, 20, 30],\n",
    "              'min_samples_split': [2, 5, 10],\n",
    "              'min_samples_leaf': [1, 2, 4]}\n",
    "perform_grid_search(dt_clf, param_grid, X_train, y_train, X_test, y_test)"
   ]
  },
  {
   "cell_type": "code",
   "execution_count": 9,
   "metadata": {},
   "outputs": [
    {
     "name": "stdout",
     "output_type": "stream",
     "text": [
      "Fitting 5 folds for each of 36 candidates, totalling 180 fits\n",
      "Best parameters: {'max_depth': 10, 'min_samples_leaf': 2, 'min_samples_split': 2, 'n_estimators': 30}\n",
      "Best cross-validation score: 84.80%\n",
      "Class 0 AUC: 0.7970\n",
      "Class 1 AUC: 0.8476\n",
      "Class 2 AUC: 0.8273\n",
      "Class 3 AUC: 0.9546\n",
      "Class 4 AUC: 0.6968\n",
      "Overall AUC (Macro-average): 0.8247\n",
      "              precision    recall  f1-score   support\n",
      "\n",
      "           0       0.84      0.99      0.91       734\n",
      "           1       0.00      0.00      0.00         7\n",
      "           2       0.57      0.07      0.13       107\n",
      "           3       1.00      0.03      0.06        31\n",
      "           4       0.00      0.00      0.00         3\n",
      "\n",
      "    accuracy                           0.84       882\n",
      "   macro avg       0.48      0.22      0.22       882\n",
      "weighted avg       0.80      0.84      0.78       882\n",
      "\n"
     ]
    }
   ],
   "source": [
    "# Random Forest\n",
    "param_grid = {\n",
    "    'n_estimators': [10, 30],\n",
    "    'max_depth': [3, 5, 10],\n",
    "    'min_samples_split': [2, 5],    # Minimum number of samples required to split a node\n",
    "    'min_samples_leaf': [1, 2, 4]       # Minimum number of samples required at each leaf node\n",
    "}\n",
    "rf = RandomForestClassifier(random_state=42)\n",
    "perform_grid_search(rf, param_grid, X_train, y_train, X_test, y_test)"
   ]
  },
  {
   "cell_type": "code",
   "execution_count": 10,
   "metadata": {},
   "outputs": [
    {
     "name": "stdout",
     "output_type": "stream",
     "text": [
      "Fitting 5 folds for each of 3 candidates, totalling 15 fits\n",
      "Best parameters: {'var_smoothing': 1e-08}\n",
      "Best cross-validation score: 10.21%\n",
      "Class 0 AUC: 0.5142\n",
      "Class 1 AUC: 0.5985\n",
      "Class 2 AUC: 0.5949\n",
      "Class 3 AUC: 0.5389\n",
      "Class 4 AUC: 0.5246\n",
      "Overall AUC (Macro-average): 0.5542\n",
      "              precision    recall  f1-score   support\n",
      "\n",
      "           0       0.88      0.05      0.10       734\n",
      "           1       0.01      0.57      0.02         7\n",
      "           2       0.17      0.22      0.19       107\n",
      "           3       0.07      0.29      0.11        31\n",
      "           4       0.00      0.33      0.01         3\n",
      "\n",
      "    accuracy                           0.09       882\n",
      "   macro avg       0.23      0.29      0.09       882\n",
      "weighted avg       0.76      0.09      0.11       882\n",
      "\n"
     ]
    }
   ],
   "source": [
    "# Gaussian Naive Bayes\n",
    "gnb = GaussianNB()\n",
    "param_grid = {'var_smoothing': [1e-10, 1e-9, 1e-8]}\n",
    "perform_grid_search(gnb, param_grid, X_train, y_train, X_test, y_test)"
   ]
  }
 ],
 "metadata": {
  "kernelspec": {
   "display_name": "fld",
   "language": "python",
   "name": "python3"
  },
  "language_info": {
   "codemirror_mode": {
    "name": "ipython",
    "version": 3
   },
   "file_extension": ".py",
   "mimetype": "text/x-python",
   "name": "python",
   "nbconvert_exporter": "python",
   "pygments_lexer": "ipython3",
   "version": "3.7.4"
  }
 },
 "nbformat": 4,
 "nbformat_minor": 2
}
