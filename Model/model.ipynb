{
 "cells": [
  {
   "cell_type": "code",
   "execution_count": 5,
   "metadata": {},
   "outputs": [],
   "source": [
    "# Imports \n",
    "import pandas as pd\n",
    "import numpy as np\n",
    "from sklearn.model_selection import GridSearchCV\n",
    "from sklearn.metrics import roc_auc_score, accuracy_score, f1_score, accuracy_score, classification_report\n",
    "from sklearn.preprocessing import label_binarize\n",
    "import os\n",
    "\n",
    "# ANN - FC\n",
    "import torch\n",
    "import torch.nn as nn\n",
    "import torch.optim as optim\n",
    "import torch.nn.functional as F\n",
    "from torch.utils.data import TensorDataset, DataLoader\n",
    "from torch.nn.utils import clip_grad_norm_\n",
    "import os"
   ]
  },
  {
   "cell_type": "code",
   "execution_count": 6,
   "metadata": {},
   "outputs": [],
   "source": [
    "import sys\n",
    "sys.path.append('../Utilities')\n",
    "import utils\n",
    "import udfs"
   ]
  },
  {
   "cell_type": "markdown",
   "metadata": {},
   "source": [
    "Loading preprocessed Data"
   ]
  },
  {
   "cell_type": "code",
   "execution_count": 2,
   "metadata": {},
   "outputs": [],
   "source": [
    "DATA_DIR = \"../Data/train_test_data/\"\n",
    "\n",
    "# Load datasets from Parquet files\n",
    "train_df = pd.read_csv(os.path.join(DATA_DIR, \"train.csv\"))\n",
    "val_df = pd.read_csv(os.path.join(DATA_DIR, \"val.csv\"))\n",
    "test_df = pd.read_csv(os.path.join(DATA_DIR, \"test.csv\"))\n",
    "# Replace invalid characters in column names\n",
    "train_df.columns = [col.replace('<', '').replace('[', '').replace(']', '').replace(',', '') for col in train_df.columns]\n",
    "val_df.columns = [col.replace('<', '').replace('[', '').replace(']', '').replace(',', '') for col in val_df.columns]\n",
    "test_df.columns = [col.replace('<', '').replace('[', '').replace(']', '').replace(',', '') for col in test_df.columns]\n",
    "\n",
    "# Separate features and targets\n",
    "X_train = train_df.drop('target', axis=1)\n",
    "y_train = train_df['target']\n",
    "X_val = val_df.drop('target', axis=1)\n",
    "y_val = val_df['target']\n",
    "X_test = test_df.drop('target', axis=1)\n",
    "y_test = test_df['target']"
   ]
  },
  {
   "cell_type": "markdown",
   "metadata": {},
   "source": [
    "Feature Spliting for further represetation learning"
   ]
  },
  {
   "cell_type": "code",
   "execution_count": 10,
   "metadata": {},
   "outputs": [
    {
     "name": "stdout",
     "output_type": "stream",
     "text": [
      "all_survey_feature_names: ['t1_AUDIT_0.0', 't1_AUDIT_1.0', 't1_AUDIT_2.0', 't1_AUDIT_3.0', 't1_c5_Disturbance_0.0', 't1_c5_Disturbance_1.0', 't1_c5_Disturbance_2.0', 't1_c5_Disturbance_3.0', 't1_c3_Duration_0.0', 't1_c3_Duration_1.0', 't1_c3_Duration_2.0', 't1_c3_Duration_3.0', 't1_c2_Latency_0.0', 't1_c2_Latency_1.0', 't1_c2_Latency_2.0', 't1_c2_Latency_3.0', 't1_c7_Daytime_dysfunction_0.0', 't1_c7_Daytime_dysfunction_1.0', 't1_c7_Daytime_dysfunction_2.0', 't1_c7_Daytime_dysfunction_3.0', 't1_c6_Use_Medicatin_0.0', 't1_c6_Use_Medicatin_1.0', 't1_c6_Use_Medicatin_2.0', 't1_c6_Use_Medicatin_3.0', 't1_c1_Sleep_Quality_0.0', 't1_c1_Sleep_Quality_1.0', 't1_c1_Sleep_Quality_2.0', 't1_c1_Sleep_Quality_3.0', 't1_betel_0', 't1_betel_1', 't1_betel_NA>', 't1_coffee_0', 't1_coffee_1', 't1_coffee_NA>', 't1_smoke_0', 't1_smoke_1', 't1_smoke_NA>', 't1_insurance_0.0', 't1_insurance_1.0', 't1_eco_self_0.0', 't1_eco_self_1.0', 't1_care_self_0.0', 't1_care_self_1.0', 't1_HF_0.0', 't1_HF_1.0', 't1_fam_self_0.0', 't1_fam_self_1.0', 't1_RAND36_SF_0.0', 't1_RAND36_SF_1.0', 't1_RAND36_SF_2.0', 't1_RAND36_SF_3.0', 't1_RAND36_SF_4.0', 't1_RAND36_PF_0.0', 't1_RAND36_PF_1.0', 't1_RAND36_PF_2.0', 't1_RAND36_PF_3.0', 't1_RAND36_PF_4.0', 't1_RAND36_EWB_0.0', 't1_RAND36_EWB_1.0', 't1_RAND36_EWB_2.0', 't1_RAND36_EWB_3.0', 't1_RAND36_EWB_4.0', 't1_RAND36_BP_0.0', 't1_RAND36_BP_1.0', 't1_RAND36_BP_2.0', 't1_RAND36_BP_3.0', 't1_RAND36_BP_4.0', 't1_RAND36_EF_0.0', 't1_RAND36_EF_1.0', 't1_RAND36_EF_2.0', 't1_RAND36_EF_3.0', 't1_RAND36_EF_4.0', 't1_RAND36_GH_0.0', 't1_RAND36_GH_1.0', 't1_RAND36_GH_2.0', 't1_RAND36_GH_3.0', 't1_RAND36_GH_4.0', 't1_RAND36_RP_0.0', 't1_RAND36_RP_1.0', 't1_RAND36_RP_2.0', 't1_RAND36_RP_3.0', 't1_RAND36_RP_4.0', 't1_RAND36_RE_0.0', 't1_RAND36_RE_1.0', 't1_RAND36_RE_3.0', 't1_RAND36_RE_4.0']\n"
     ]
    }
   ],
   "source": [
    "# Fetch the survey feature names in final preprocessed data set\n",
    "survey_list = ['AUDIT', 'c5_Disturbance', 'c3_Duration', 'c2_Latency', 'c7_Daytime_dysfunction', 'c6_Use_Medicatin', 'c1_Sleep_Quality', 'betel', 'coffee', 'smoke', 'insurance', 'eco_self', 'care_self', 'HF', 'fam_self', 'RAND36_SF', 'RAND36_PF', 'RAND36_EWB', 'RAND36_BP', 'RAND36_EF', 'RAND36_GH', 'RAND36_RP', 'RAND36_RE']\n",
    "prefixes = [\"t1_\"]\n",
    "final_survey_features = utils.add_prefix(survey_list, prefixes)\n",
    "\n",
    "# Find out all survey feature names with the one-hot encoding features\n",
    "X_train_columns = X_train.columns.tolist()\n",
    "expanded_features = {feature: [] for feature in final_survey_features}\n",
    "for col in X_train_columns:\n",
    "    for feature in final_survey_features:\n",
    "        if feature in col:\n",
    "            expanded_features[feature].append(col)\n",
    "\n",
    "all_survey_feature_names = []\n",
    "for cols in expanded_features.values():\n",
    "    all_survey_feature_names.extend(cols)\n",
    "\n",
    "print(\"all_survey_feature_names:\", all_survey_feature_names)"
   ]
  },
  {
   "cell_type": "code",
   "execution_count": 12,
   "metadata": {},
   "outputs": [
    {
     "name": "stdout",
     "output_type": "stream",
     "text": [
      "Other_feature_names: ['t1_age', 't1_waist_y', 't1_Glucose_AC_y', 't1_Triglyceride_y', 't1_HDL_C_y', 't1_AST_GOT', 't1_ALT_GPT', 't1_gamgt', 't1_Insulin', 't1_T_Cholesterol', 't1_LDL_C_direct', 't1_VLDL_C', 't1_Non_HDL_C', 't1_T_CHOL_HDL_C', 't1_LDL_C_HDL_C', 't1_HS_CRP', 't1_Hb_A1c', 't1_Uric_Acid', 't1_HOMA_IR', 't1_Adiponectin', 't1_Leptin', 't1_TotalVitaminD', 't1_BMI', 't1_hyper', 't1_fg', 't1_HDL', 't1_trig', 't1_sarcf', 't1_ms2', 't1_HBV_', 't1_HCV_', 't1_HBsAg_x_num', 't1_Anti_HCV_x_num', 't1_year_come', 't1_sex_0', 't1_sex_1', 't1_w_0', 't1_w_1', 't1_DM_determine_0', 't1_DM_determine_1', 't1_CKD_-1', 't1_CKD_1', 't1_CKD_2', 't1_CKD_3']\n"
     ]
    }
   ],
   "source": [
    "# All other features names\n",
    "other_feature_names = [col for col in X_train_columns if col not in all_survey_feature_names]\n",
    "\n",
    "print(\"Other_feature_names:\", other_feature_names)"
   ]
  },
  {
   "cell_type": "markdown",
   "metadata": {},
   "source": [
    "Tesor Dataset Preparation"
   ]
  },
  {
   "cell_type": "code",
   "execution_count": 17,
   "metadata": {},
   "outputs": [],
   "source": [
    "# Split features\n",
    "X1_train = X_train[all_survey_feature_names]\n",
    "X2_train = X_train[other_feature_names]\n",
    "X1_val = X_val[all_survey_feature_names]\n",
    "X2_val = X_val[other_feature_names]\n",
    "\n",
    "\n",
    "# transfer to torch tensor\n",
    "X1_train_tensor = torch.tensor(X1_train.values, dtype=torch.float32)\n",
    "X2_train_tensor = torch.tensor(X2_train.values, dtype=torch.float32)\n",
    "X1_val_tensor = torch.tensor(X1_val.values, dtype=torch.float32)\n",
    "X2_val_tensor = torch.tensor(X2_val.values, dtype=torch.float32)"
   ]
  },
  {
   "cell_type": "code",
   "execution_count": 18,
   "metadata": {},
   "outputs": [],
   "source": [
    "# Add Gaussian noise for X2 data\n",
    "noise_std = 0.1  \n",
    "\n",
    "noise_train = torch.randn_like(X2_train_tensor) * noise_std\n",
    "X2_train_noisy = X2_train_tensor + noise_train\n",
    "noise_val = torch.randn_like(X2_val_tensor) * noise_std\n",
    "X2_val_noisy = X2_val_tensor + noise_val"
   ]
  },
  {
   "cell_type": "code",
   "execution_count": 21,
   "metadata": {},
   "outputs": [
    {
     "data": {
      "text/plain": [
       "torch.Size([2820, 86])"
      ]
     },
     "execution_count": 21,
     "metadata": {},
     "output_type": "execute_result"
    }
   ],
   "source": [
    "# Survey features shape\n",
    "X1_train_tensor.shape"
   ]
  },
  {
   "cell_type": "code",
   "execution_count": 22,
   "metadata": {},
   "outputs": [
    {
     "data": {
      "text/plain": [
       "torch.Size([2820, 44])"
      ]
     },
     "execution_count": 22,
     "metadata": {},
     "output_type": "execute_result"
    }
   ],
   "source": [
    "# Non-survey feaures shape\n",
    "X2_train_tensor.shape"
   ]
  },
  {
   "cell_type": "markdown",
   "metadata": {},
   "source": [
    "Proposed Model applying contrastive learning with Guassian Noise"
   ]
  },
  {
   "cell_type": "code",
   "execution_count": 19,
   "metadata": {},
   "outputs": [],
   "source": [
    "# Encoders for generating Pos and Neg samples\n",
    "# Add Regularizer\n",
    "class Encoder1(nn.Module):\n",
    "    def __init__(self, input_dim, dropout_rate=0.5):\n",
    "        super(Encoder1, self).__init__()\n",
    "        self.encoder = nn.Sequential(\n",
    "            nn.Linear(input_dim, 256),\n",
    "            nn.ReLU(),\n",
    "            nn.BatchNorm1d(256),\n",
    "            nn.Dropout(dropout_rate),\n",
    "            nn.Linear(256, 128),\n",
    "            nn.ReLU(),\n",
    "            nn.BatchNorm1d(128),\n",
    "            nn.Dropout(dropout_rate),\n",
    "            nn.Linear(128, 64),\n",
    "            nn.BatchNorm1d(64)\n",
    "        )\n",
    "\n",
    "    def forward(self, x):\n",
    "        return self.encoder(x)\n",
    "\n",
    "class Encoder2(nn.Module):\n",
    "    def __init__(self, input_dim, dropout_rate=0.5):\n",
    "        super(Encoder2, self).__init__()\n",
    "        self.encoder = nn.Sequential(\n",
    "            nn.Linear(input_dim, 256),\n",
    "            nn.ReLU(),\n",
    "            nn.BatchNorm1d(256),\n",
    "            nn.Dropout(dropout_rate),\n",
    "            nn.Linear(256, 128),\n",
    "            nn.ReLU(),\n",
    "            nn.BatchNorm1d(128),\n",
    "            nn.Dropout(dropout_rate),\n",
    "            nn.Linear(128, 64),\n",
    "            nn.BatchNorm1d(64)\n",
    "        )\n",
    "\n",
    "    def forward(self, x):\n",
    "        return self.encoder(x)"
   ]
  },
  {
   "cell_type": "code",
   "execution_count": 20,
   "metadata": {},
   "outputs": [],
   "source": [
    "def info_nce_loss(features1, features2, temperature=0.1):\n",
    "  # feature normalization\n",
    "  features1 = F.normalize(features1, dim=1)\n",
    "  features2 = F.normalize(features2, dim=1)\n",
    "\n",
    "  # compute similarity matrix\n",
    "  similarity_matrix = torch.matmul(features1, features2.T)\n",
    "\n",
    "  # select positives and negatives\n",
    "  mask = torch.eye(similarity_matrix.shape[0], dtype=torch.bool)\n",
    "  positives = similarity_matrix[mask].view(similarity_matrix.shape[0], -1)\n",
    "  negatives = similarity_matrix[~mask].view(similarity_matrix.shape[0], -1)\n",
    "\n",
    "  logits = torch.cat([positives, negatives], dim=1)\n",
    "  labels = torch.zeros(logits.shape[0], dtype=torch.long)\n",
    "\n",
    "  logits = logits / temperature\n",
    "  return logits, labels"
   ]
  },
  {
   "cell_type": "code",
   "execution_count": 23,
   "metadata": {},
   "outputs": [],
   "source": [
    "batch_size = 64\n",
    "num_workers = 2\n",
    "\n",
    "# create data loader\n",
    "train_loader = DataLoader(TensorDataset(X1_train_tensor, X2_train_noisy), batch_size=batch_size, shuffle=True, num_workers=num_workers)\n",
    "val_loader = DataLoader(TensorDataset(X1_val_tensor, X2_val_noisy), batch_size=batch_size, shuffle=False, num_workers=num_workers)"
   ]
  },
  {
   "cell_type": "code",
   "execution_count": 24,
   "metadata": {},
   "outputs": [
    {
     "name": "stdout",
     "output_type": "stream",
     "text": [
      "torch.Size([64, 86])\n",
      "torch.Size([64, 44])\n"
     ]
    }
   ],
   "source": [
    "for X1_batch, X2_batch in train_loader:\n",
    "  # print(X1_batch, X2_batch)\n",
    "  print(X1_batch.shape)\n",
    "  print(X2_batch.shape)\n",
    "  break"
   ]
  },
  {
   "cell_type": "code",
   "execution_count": 25,
   "metadata": {},
   "outputs": [
    {
     "name": "stdout",
     "output_type": "stream",
     "text": [
      "X1_input_dim:  86 X2_input_dim:  44\n"
     ]
    }
   ],
   "source": [
    "# Model init\n",
    "X1_input_dim = X1_batch.shape[1]\n",
    "X2_input_dim = X2_batch.shape[1]\n",
    "print(\"X1_input_dim: \", X1_input_dim, \"X2_input_dim: \", X2_input_dim)\n",
    "\n",
    "wd = 1e-3\n",
    "lr = 0.001\n",
    "\n",
    "#define model\n",
    "encoder1 = Encoder1(input_dim=X1_input_dim)\n",
    "encoder2 = Encoder2(input_dim=X2_input_dim)\n",
    "\n",
    "criterion = nn.CrossEntropyLoss()\n",
    "optimizer1 = torch.optim.Adam(encoder1.parameters(), lr=lr, weight_decay=wd)\n",
    "optimizer2 = torch.optim.Adam(encoder2.parameters(), lr=lr, weight_decay=wd)\n",
    "\n",
    "def init_weights(m):\n",
    "        if type(m) == nn.Linear or type(m) == nn.Conv2d:\n",
    "            nn.init.xavier_uniform_(m.weight)"
   ]
  },
  {
   "cell_type": "code",
   "execution_count": 26,
   "metadata": {},
   "outputs": [],
   "source": [
    "encoder1.apply(init_weights)\n",
    "encoder2.apply(init_weights)\n",
    "num_epochs = 100"
   ]
  },
  {
   "cell_type": "code",
   "execution_count": 27,
   "metadata": {},
   "outputs": [
    {
     "name": "stdout",
     "output_type": "stream",
     "text": [
      "Epoch [1/100], Average training Loss: 4.8350\n",
      "Epoch [1/100], Average validation Loss: 4.4288\n",
      "Epoch [2/100], Average training Loss: 4.6468\n",
      "Epoch [2/100], Average validation Loss: 4.2826\n",
      "Epoch [3/100], Average training Loss: 4.4779\n",
      "Epoch [3/100], Average validation Loss: 4.2137\n",
      "Epoch [4/100], Average training Loss: 4.3745\n",
      "Epoch [4/100], Average validation Loss: 4.0679\n",
      "Epoch [5/100], Average training Loss: 4.2961\n",
      "Epoch [5/100], Average validation Loss: 3.9457\n",
      "Epoch [6/100], Average training Loss: 4.1953\n",
      "Epoch [6/100], Average validation Loss: 3.9167\n",
      "Epoch [7/100], Average training Loss: 4.1198\n",
      "Epoch [7/100], Average validation Loss: 3.8581\n",
      "Epoch [8/100], Average training Loss: 4.0746\n",
      "Epoch [8/100], Average validation Loss: 3.8040\n",
      "Epoch [9/100], Average training Loss: 4.0342\n",
      "Epoch [9/100], Average validation Loss: 3.7509\n",
      "Epoch [10/100], Average training Loss: 3.9520\n",
      "Epoch [10/100], Average validation Loss: 3.7359\n",
      "Epoch [11/100], Average training Loss: 3.9066\n",
      "Epoch [11/100], Average validation Loss: 3.6994\n",
      "Epoch [12/100], Average training Loss: 3.8818\n",
      "Epoch [12/100], Average validation Loss: 3.6823\n",
      "Epoch [13/100], Average training Loss: 3.8356\n",
      "Epoch [13/100], Average validation Loss: 3.6814\n",
      "Epoch [14/100], Average training Loss: 3.8241\n",
      "Epoch [14/100], Average validation Loss: 3.6759\n",
      "Epoch [15/100], Average training Loss: 3.7814\n",
      "Epoch [15/100], Average validation Loss: 3.6527\n",
      "Epoch [16/100], Average training Loss: 3.7553\n",
      "Epoch [16/100], Average validation Loss: 3.6385\n",
      "Epoch [17/100], Average training Loss: 3.7253\n",
      "Epoch [17/100], Average validation Loss: 3.6013\n",
      "Epoch [18/100], Average training Loss: 3.6893\n",
      "Epoch [18/100], Average validation Loss: 3.6192\n",
      "Epoch [19/100], Average training Loss: 3.6764\n",
      "Epoch [19/100], Average validation Loss: 3.6139\n",
      "Epoch [20/100], Average training Loss: 3.6490\n",
      "Epoch [20/100], Average validation Loss: 3.5879\n",
      "Epoch [21/100], Average training Loss: 3.6414\n",
      "Epoch [21/100], Average validation Loss: 3.5744\n",
      "Epoch [22/100], Average training Loss: 3.6105\n",
      "Epoch [22/100], Average validation Loss: 3.5444\n",
      "Epoch [23/100], Average training Loss: 3.5754\n",
      "Epoch [23/100], Average validation Loss: 3.5424\n",
      "Epoch [24/100], Average training Loss: 3.5743\n",
      "Epoch [24/100], Average validation Loss: 3.5343\n",
      "Epoch [25/100], Average training Loss: 3.5627\n",
      "Epoch [25/100], Average validation Loss: 3.5355\n",
      "Epoch [26/100], Average training Loss: 3.5438\n",
      "Epoch [26/100], Average validation Loss: 3.5340\n",
      "Epoch [27/100], Average training Loss: 3.5444\n",
      "Epoch [27/100], Average validation Loss: 3.5290\n",
      "Epoch [28/100], Average training Loss: 3.5295\n",
      "Epoch [28/100], Average validation Loss: 3.4992\n",
      "Epoch [29/100], Average training Loss: 3.4942\n",
      "Epoch [29/100], Average validation Loss: 3.4981\n",
      "Epoch [30/100], Average training Loss: 3.5045\n",
      "Epoch [30/100], Average validation Loss: 3.4993\n",
      "Epoch [31/100], Average training Loss: 3.4789\n",
      "Epoch [31/100], Average validation Loss: 3.4814\n",
      "Epoch [32/100], Average training Loss: 3.4713\n",
      "Epoch [32/100], Average validation Loss: 3.4654\n",
      "Epoch [33/100], Average training Loss: 3.4669\n",
      "Epoch [33/100], Average validation Loss: 3.4634\n",
      "Epoch [34/100], Average training Loss: 3.4609\n",
      "Epoch [34/100], Average validation Loss: 3.4898\n",
      "Epoch [35/100], Average training Loss: 3.4418\n",
      "Epoch [35/100], Average validation Loss: 3.4742\n",
      "Epoch [36/100], Average training Loss: 3.4373\n",
      "Epoch [36/100], Average validation Loss: 3.4766\n",
      "Epoch [37/100], Average training Loss: 3.4138\n",
      "Epoch [37/100], Average validation Loss: 3.4846\n",
      "Epoch [38/100], Average training Loss: 3.3925\n",
      "Epoch [38/100], Average validation Loss: 3.4732\n",
      "Epoch [39/100], Average training Loss: 3.4044\n",
      "Epoch [39/100], Average validation Loss: 3.4741\n",
      "Epoch [40/100], Average training Loss: 3.4069\n",
      "Epoch [40/100], Average validation Loss: 3.4659\n",
      "Epoch [41/100], Average training Loss: 3.3750\n",
      "Epoch [41/100], Average validation Loss: 3.4766\n",
      "Epoch [42/100], Average training Loss: 3.3779\n",
      "Epoch [42/100], Average validation Loss: 3.4465\n",
      "Epoch [43/100], Average training Loss: 3.3564\n",
      "Epoch [43/100], Average validation Loss: 3.4690\n",
      "Epoch [44/100], Average training Loss: 3.3451\n",
      "Epoch [44/100], Average validation Loss: 3.4581\n",
      "Epoch [45/100], Average training Loss: 3.3521\n",
      "Epoch [45/100], Average validation Loss: 3.4606\n",
      "Epoch [46/100], Average training Loss: 3.3166\n",
      "Epoch [46/100], Average validation Loss: 3.4567\n",
      "Epoch [47/100], Average training Loss: 3.2938\n",
      "Epoch [47/100], Average validation Loss: 3.4555\n",
      "Epoch [48/100], Average training Loss: 3.3135\n",
      "Epoch [48/100], Average validation Loss: 3.4396\n",
      "Epoch [49/100], Average training Loss: 3.3215\n",
      "Epoch [49/100], Average validation Loss: 3.4235\n",
      "Epoch [50/100], Average training Loss: 3.3201\n",
      "Epoch [50/100], Average validation Loss: 3.4534\n",
      "Epoch [51/100], Average training Loss: 3.2705\n",
      "Epoch [51/100], Average validation Loss: 3.4400\n",
      "Epoch [52/100], Average training Loss: 3.2902\n",
      "Epoch [52/100], Average validation Loss: 3.4696\n",
      "Epoch [53/100], Average training Loss: 3.2793\n",
      "Epoch [53/100], Average validation Loss: 3.4854\n",
      "Epoch [54/100], Average training Loss: 3.3177\n",
      "Epoch [54/100], Average validation Loss: 3.4531\n",
      "Epoch [55/100], Average training Loss: 3.2698\n",
      "Epoch [55/100], Average validation Loss: 3.4793\n",
      "Epoch [56/100], Average training Loss: 3.2745\n",
      "Epoch [56/100], Average validation Loss: 3.4537\n",
      "Epoch [57/100], Average training Loss: 3.2524\n",
      "Epoch [57/100], Average validation Loss: 3.4709\n",
      "Epoch [58/100], Average training Loss: 3.2366\n",
      "Epoch [58/100], Average validation Loss: 3.4582\n",
      "Epoch [59/100], Average training Loss: 3.2613\n",
      "Epoch [59/100], Average validation Loss: 3.4622\n",
      "Epoch [60/100], Average training Loss: 3.2535\n",
      "Epoch [60/100], Average validation Loss: 3.4777\n",
      "Epoch [61/100], Average training Loss: 3.2703\n",
      "Epoch [61/100], Average validation Loss: 3.4758\n",
      "Epoch [62/100], Average training Loss: 3.2218\n",
      "Epoch [62/100], Average validation Loss: 3.4745\n",
      "Epoch [63/100], Average training Loss: 3.2248\n",
      "Epoch [63/100], Average validation Loss: 3.4952\n",
      "Epoch [64/100], Average training Loss: 3.2276\n",
      "Epoch [64/100], Average validation Loss: 3.4756\n",
      "Epoch [65/100], Average training Loss: 3.2055\n",
      "Epoch [65/100], Average validation Loss: 3.4837\n",
      "Epoch [66/100], Average training Loss: 3.1856\n",
      "Epoch [66/100], Average validation Loss: 3.4597\n",
      "Epoch [67/100], Average training Loss: 3.1808\n",
      "Epoch [67/100], Average validation Loss: 3.4965\n",
      "Epoch [68/100], Average training Loss: 3.2052\n",
      "Epoch [68/100], Average validation Loss: 3.4872\n",
      "Epoch [69/100], Average training Loss: 3.1924\n",
      "Epoch [69/100], Average validation Loss: 3.4822\n",
      "Epoch [70/100], Average training Loss: 3.1760\n",
      "Epoch [70/100], Average validation Loss: 3.4822\n",
      "Epoch [71/100], Average training Loss: 3.1496\n",
      "Epoch [71/100], Average validation Loss: 3.4964\n",
      "Epoch [72/100], Average training Loss: 3.1695\n",
      "Epoch [72/100], Average validation Loss: 3.5019\n",
      "Epoch [73/100], Average training Loss: 3.1441\n",
      "Epoch [73/100], Average validation Loss: 3.4987\n",
      "Epoch [74/100], Average training Loss: 3.1324\n",
      "Epoch [74/100], Average validation Loss: 3.5148\n",
      "Epoch [75/100], Average training Loss: 3.1603\n",
      "Epoch [75/100], Average validation Loss: 3.5043\n",
      "Epoch [76/100], Average training Loss: 3.1247\n",
      "Epoch [76/100], Average validation Loss: 3.5153\n",
      "Epoch [77/100], Average training Loss: 3.1310\n",
      "Epoch [77/100], Average validation Loss: 3.5010\n",
      "Epoch [78/100], Average training Loss: 3.1240\n",
      "Epoch [78/100], Average validation Loss: 3.5315\n",
      "Epoch [79/100], Average training Loss: 3.1250\n",
      "Epoch [79/100], Average validation Loss: 3.5107\n",
      "Epoch [80/100], Average training Loss: 3.1539\n",
      "Epoch [80/100], Average validation Loss: 3.5323\n",
      "Epoch [81/100], Average training Loss: 3.1076\n",
      "Epoch [81/100], Average validation Loss: 3.5232\n",
      "Epoch [82/100], Average training Loss: 3.1111\n",
      "Epoch [82/100], Average validation Loss: 3.5461\n",
      "Epoch [83/100], Average training Loss: 3.1299\n",
      "Epoch [83/100], Average validation Loss: 3.5068\n",
      "Epoch [84/100], Average training Loss: 3.1091\n",
      "Epoch [84/100], Average validation Loss: 3.5057\n",
      "Epoch [85/100], Average training Loss: 3.1021\n",
      "Epoch [85/100], Average validation Loss: 3.4997\n",
      "Epoch [86/100], Average training Loss: 3.1071\n",
      "Epoch [86/100], Average validation Loss: 3.5223\n",
      "Epoch [87/100], Average training Loss: 3.1007\n",
      "Epoch [87/100], Average validation Loss: 3.5061\n",
      "Epoch [88/100], Average training Loss: 3.0873\n",
      "Epoch [88/100], Average validation Loss: 3.5308\n",
      "Epoch [89/100], Average training Loss: 3.0803\n",
      "Epoch [89/100], Average validation Loss: 3.5306\n",
      "Epoch [90/100], Average training Loss: 3.0751\n",
      "Epoch [90/100], Average validation Loss: 3.5082\n",
      "Epoch [91/100], Average training Loss: 3.0621\n",
      "Epoch [91/100], Average validation Loss: 3.5269\n",
      "Epoch [92/100], Average training Loss: 3.0327\n",
      "Epoch [92/100], Average validation Loss: 3.5173\n",
      "Epoch [93/100], Average training Loss: 3.0565\n",
      "Epoch [93/100], Average validation Loss: 3.5345\n",
      "Epoch [94/100], Average training Loss: 3.0504\n",
      "Epoch [94/100], Average validation Loss: 3.5030\n",
      "Epoch [95/100], Average training Loss: 3.0426\n",
      "Epoch [95/100], Average validation Loss: 3.5233\n",
      "Epoch [96/100], Average training Loss: 3.0873\n",
      "Epoch [96/100], Average validation Loss: 3.5430\n",
      "Epoch [97/100], Average training Loss: 3.0434\n",
      "Epoch [97/100], Average validation Loss: 3.5284\n",
      "Epoch [98/100], Average training Loss: 3.0530\n",
      "Epoch [98/100], Average validation Loss: 3.5299\n",
      "Epoch [99/100], Average training Loss: 3.0523\n",
      "Epoch [99/100], Average validation Loss: 3.5723\n",
      "Epoch [100/100], Average training Loss: 3.0320\n",
      "Epoch [100/100], Average validation Loss: 3.5767\n"
     ]
    }
   ],
   "source": [
    "train_losses = []\n",
    "val_losses = []\n",
    "\n",
    "\n",
    "for epoch in range(num_epochs):\n",
    "    train_loss_sum, train_total = 0, 0\n",
    "    encoder1.train()\n",
    "    encoder2.train()\n",
    "    for X1, X2 in train_loader:\n",
    "        optimizer1.zero_grad()\n",
    "        optimizer2.zero_grad()\n",
    "        out1 = encoder1(X1)\n",
    "        out2 = encoder2(X2)\n",
    "        #loss fuction\n",
    "        logits, labels = info_nce_loss(out1, out2)\n",
    "        loss = criterion(logits, labels)\n",
    "        loss.backward()\n",
    "        optimizer1.step()\n",
    "        optimizer2.step()\n",
    "        train_loss_sum += loss.item() * X1.size(0)\n",
    "        train_total += X1.size(0)\n",
    "    avg_train_loss = train_loss_sum / train_total\n",
    "    train_losses.append(avg_train_loss)\n",
    "    print(f'Epoch [{epoch+1}/{num_epochs}], Average training Loss: {avg_train_loss:.4f}')\n",
    "\n",
    "    #add patience mechanism\n",
    "    best_val_loss = float('inf')\n",
    "    patience_counter = 0\n",
    "    patience = 5\n",
    "    early_stopping_triggered = False\n",
    "\n",
    "    encoder1.eval()\n",
    "    encoder2.eval()\n",
    "    with torch.no_grad():\n",
    "        val_loss_sum, val_total = 0, 0\n",
    "        for X1, X2 in val_loader:\n",
    "            out1 = encoder1(X1)\n",
    "            out2 = encoder2(X2)\n",
    "            #loss fuction\n",
    "            logits, labels = info_nce_loss(out1, out2)\n",
    "            loss = criterion(logits, labels)\n",
    "            val_loss_sum += loss.item() * X1.size(0)\n",
    "            val_total += X1.size(0)\n",
    "        # cal avg loss\n",
    "        avg_val_loss = val_loss_sum / val_total\n",
    "        val_losses.append(avg_val_loss)\n",
    "        print(f'Epoch [{epoch+1}/{num_epochs}], Average validation Loss: {avg_val_loss:.4f}')\n",
    "\n",
    "        if avg_val_loss < best_val_loss:\n",
    "          best_val_loss = avg_val_loss\n",
    "          patience_counter = 0  # reset counter\n",
    "          # save models\n",
    "          torch.save(encoder1.state_dict(), 'best_encoder1.pth')\n",
    "          torch.save(encoder2.state_dict(), 'best_encoder2.pth')\n",
    "        else:\n",
    "          patience_counter += 1\n",
    "\n",
    "        # check early stopping\n",
    "        if patience_counter >= patience:\n",
    "          early_stopping_triggered = True\n",
    "          print(\"Early stopping triggered\")\n",
    "          break"
   ]
  },
  {
   "cell_type": "code",
   "execution_count": 28,
   "metadata": {},
   "outputs": [
    {
     "data": {
      "image/png": "[encoded data removed]",
      "text/plain": [
       "<Figure size 1000x600 with 1 Axes>"
      ]
     },
     "metadata": {},
     "output_type": "display_data"
    }
   ],
   "source": [
    "# Plot\n",
    "import matplotlib.pyplot as plt\n",
    "\n",
    "epochs = range(1, num_epochs + 1)\n",
    "\n",
    "plt.figure(figsize=(10, 6))\n",
    "plt.plot(epochs, train_losses, 'o-', label='Training Loss')\n",
    "plt.plot(epochs, val_losses, 'o-', label='Validation Loss')\n",
    "plt.title('Training and Validation Loss')\n",
    "plt.xlabel('Epoch')\n",
    "plt.ylabel('Loss')\n",
    "plt.legend()\n",
    "plt.show()"
   ]
  },
  {
   "cell_type": "markdown",
   "metadata": {},
   "source": [
    "Downstream Task Implementation and Comparison"
   ]
  },
  {
   "cell_type": "code",
   "execution_count": 29,
   "metadata": {},
   "outputs": [],
   "source": [
    "def calculate_auc(y_true, y_prob):\n",
    "  n_classes = len(np.unique(y_true))\n",
    "  y_ture_binarized = label_binarize(y_true.values, classes=np.arange(n_classes))\n",
    "\n",
    "  auc_scores = roc_auc_score(y_ture_binarized, y_prob, multi_class='ovr', average=None)\n",
    "  for i, auc_score in enumerate(auc_scores):\n",
    "    print(f\"Class {i} AUC: {auc_score:.4f}\")\n",
    "  overall_auc_macro = roc_auc_score(y_ture_binarized, y_prob, multi_class='ovr', average='macro')\n",
    "  print(f\"Overall AUC (Macro-average): {overall_auc_macro:.4f}\")\n",
    "  return"
   ]
  },
  {
   "cell_type": "code",
   "execution_count": 33,
   "metadata": {},
   "outputs": [
    {
     "name": "stdout",
     "output_type": "stream",
     "text": [
      "Test Accuracy: 32.88%\n",
      "Class 0 AUC: 0.7213\n",
      "Class 1 AUC: 0.9314\n",
      "Class 2 AUC: 0.6971\n",
      "Class 3 AUC: 0.9325\n",
      "Class 4 AUC: 0.9994\n",
      "Overall AUC (Macro-average): 0.8563\n"
     ]
    }
   ],
   "source": [
    "# Train for all features with embedding in Test set\n",
    "from sklearn.linear_model import LogisticRegression\n",
    "from sklearn.naive_bayes import GaussianNB\n",
    "# Logistic Regression\n",
    "X1_test_tensor = torch.FloatTensor(X_test[all_survey_feature_names].values)\n",
    "with torch.no_grad():\n",
    "    # encoded_X_train = encoder1(X1_train_tensor)\n",
    "    encoded_X_test = encoder1(X1_test_tensor)\n",
    "encoded_X_test_np = encoded_X_test.numpy()\n",
    "y_test_np = y_test.values\n",
    "\n",
    "# Train for all features with embedding\n",
    "X_test_others_np = X_test[other_feature_names]\n",
    "combined_features = np.concatenate([encoded_X_test_np, X_test_others_np], axis=1)\n",
    "# lr = LogisticRegression(max_iter=500, multi_class='multinomial', solver='lbfgs')\n",
    "# lr.fit(combined_features, y_test_np)\n",
    "gnb = GaussianNB(var_smoothing=1e-9)\n",
    "gnb.fit(combined_features, y_test_np)\n",
    "\n",
    "test_accuracy = gnb.score(combined_features, y_test_np)\n",
    "print(f\"Test Accuracy: {test_accuracy * 100:.2f}%\")\n",
    "\n",
    "y_test_proba = gnb.predict_proba(combined_features)\n",
    "calculate_auc(y_test, y_test_proba)"
   ]
  },
  {
   "cell_type": "code",
   "execution_count": 36,
   "metadata": {},
   "outputs": [
    {
     "name": "stdout",
     "output_type": "stream",
     "text": [
      "Test Accuracy: 9.30%\n",
      "Class 0 AUC: 0.4970\n",
      "Class 1 AUC: 0.5949\n",
      "Class 2 AUC: 0.5779\n",
      "Class 3 AUC: 0.6570\n",
      "Class 4 AUC: 0.5675\n",
      "Overall AUC (Macro-average): 0.5789\n"
     ]
    }
   ],
   "source": [
    "# Comparision\n",
    "# Run regression for all data without embedding by contrastive learning with guassian noise\n",
    "gnb_c = GaussianNB(var_smoothing=1e-9)\n",
    "gnb_c.fit(X_train, y_train)\n",
    "print(f\"Test Accuracy: {gnb_c.score(X_test, y_test) * 100:.2f}%\")\n",
    "\n",
    "y_test_proba = gnb_c.predict_proba(X_test)\n",
    "calculate_auc(y_test, y_test_proba)"
   ]
  },
  {
   "cell_type": "code",
   "execution_count": null,
   "metadata": {},
   "outputs": [],
   "source": []
  }
 ],
 "metadata": {
  "kernelspec": {
   "display_name": "fld",
   "language": "python",
   "name": "python3"
  },
  "language_info": {
   "codemirror_mode": {
    "name": "ipython",
    "version": 3
   },
   "file_extension": ".py",
   "mimetype": "text/x-python",
   "name": "python",
   "nbconvert_exporter": "python",
   "pygments_lexer": "ipython3",
   "version": "3.7.4"
  }
 },
 "nbformat": 4,
 "nbformat_minor": 2
}
