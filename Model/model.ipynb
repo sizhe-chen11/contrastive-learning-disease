{
 "cells": [
  {
   "cell_type": "code",
   "execution_count": 5,
   "metadata": {},
   "outputs": [],
   "source": [
    "# Imports \n",
    "import pandas as pd\n",
    "import numpy as np\n",
    "from sklearn.model_selection import GridSearchCV\n",
    "from sklearn.metrics import roc_auc_score, accuracy_score, f1_score, accuracy_score, classification_report\n",
    "from sklearn.preprocessing import label_binarize\n",
    "import os\n",
    "\n",
    "# ANN - FC\n",
    "import torch\n",
    "import torch.nn as nn\n",
    "import torch.optim as optim\n",
    "import torch.nn.functional as F\n",
    "from torch.utils.data import TensorDataset, DataLoader\n",
    "from torch.nn.utils import clip_grad_norm_\n",
    "import os"
   ]
  },
  {
   "cell_type": "code",
   "execution_count": 6,
   "metadata": {},
   "outputs": [],
   "source": [
    "import sys\n",
    "sys.path.append('../Utilities')\n",
    "import utils\n",
    "import udfs"
   ]
  },
  {
   "cell_type": "markdown",
   "metadata": {},
   "source": [
    "Loading preprocessed Data"
   ]
  },
  {
   "cell_type": "code",
   "execution_count": 2,
   "metadata": {},
   "outputs": [],
   "source": [
    "DATA_DIR = \"../Data/train_test_data/\"\n",
    "\n",
    "# Load datasets from Parquet files\n",
    "train_df = pd.read_csv(os.path.join(DATA_DIR, \"train.csv\"))\n",
    "val_df = pd.read_csv(os.path.join(DATA_DIR, \"val.csv\"))\n",
    "test_df = pd.read_csv(os.path.join(DATA_DIR, \"test.csv\"))\n",
    "# Replace invalid characters in column names\n",
    "train_df.columns = [col.replace('<', '').replace('[', '').replace(']', '').replace(',', '') for col in train_df.columns]\n",
    "val_df.columns = [col.replace('<', '').replace('[', '').replace(']', '').replace(',', '') for col in val_df.columns]\n",
    "test_df.columns = [col.replace('<', '').replace('[', '').replace(']', '').replace(',', '') for col in test_df.columns]\n",
    "\n",
    "# Separate features and targets\n",
    "X_train = train_df.drop('target', axis=1)\n",
    "y_train = train_df['target']\n",
    "X_val = val_df.drop('target', axis=1)\n",
    "y_val = val_df['target']\n",
    "X_test = test_df.drop('target', axis=1)\n",
    "y_test = test_df['target']"
   ]
  },
  {
   "cell_type": "markdown",
   "metadata": {},
   "source": [
    "Feature Spliting for further represetation learning"
   ]
  },
  {
   "cell_type": "code",
   "execution_count": 10,
   "metadata": {},
   "outputs": [
    {
     "name": "stdout",
     "output_type": "stream",
     "text": [
      "all_survey_feature_names: ['t1_AUDIT_0.0', 't1_AUDIT_1.0', 't1_AUDIT_2.0', 't1_AUDIT_3.0', 't1_c5_Disturbance_0.0', 't1_c5_Disturbance_1.0', 't1_c5_Disturbance_2.0', 't1_c5_Disturbance_3.0', 't1_c3_Duration_0.0', 't1_c3_Duration_1.0', 't1_c3_Duration_2.0', 't1_c3_Duration_3.0', 't1_c2_Latency_0.0', 't1_c2_Latency_1.0', 't1_c2_Latency_2.0', 't1_c2_Latency_3.0', 't1_c7_Daytime_dysfunction_0.0', 't1_c7_Daytime_dysfunction_1.0', 't1_c7_Daytime_dysfunction_2.0', 't1_c7_Daytime_dysfunction_3.0', 't1_c6_Use_Medicatin_0.0', 't1_c6_Use_Medicatin_1.0', 't1_c6_Use_Medicatin_2.0', 't1_c6_Use_Medicatin_3.0', 't1_c1_Sleep_Quality_0.0', 't1_c1_Sleep_Quality_1.0', 't1_c1_Sleep_Quality_2.0', 't1_c1_Sleep_Quality_3.0', 't1_betel_0', 't1_betel_1', 't1_betel_NA>', 't1_coffee_0', 't1_coffee_1', 't1_coffee_NA>', 't1_smoke_0', 't1_smoke_1', 't1_smoke_NA>', 't1_insurance_0.0', 't1_insurance_1.0', 't1_eco_self_0.0', 't1_eco_self_1.0', 't1_care_self_0.0', 't1_care_self_1.0', 't1_HF_0.0', 't1_HF_1.0', 't1_fam_self_0.0', 't1_fam_self_1.0', 't1_RAND36_SF_0.0', 't1_RAND36_SF_1.0', 't1_RAND36_SF_2.0', 't1_RAND36_SF_3.0', 't1_RAND36_SF_4.0', 't1_RAND36_PF_0.0', 't1_RAND36_PF_1.0', 't1_RAND36_PF_2.0', 't1_RAND36_PF_3.0', 't1_RAND36_PF_4.0', 't1_RAND36_EWB_0.0', 't1_RAND36_EWB_1.0', 't1_RAND36_EWB_2.0', 't1_RAND36_EWB_3.0', 't1_RAND36_EWB_4.0', 't1_RAND36_BP_0.0', 't1_RAND36_BP_1.0', 't1_RAND36_BP_2.0', 't1_RAND36_BP_3.0', 't1_RAND36_BP_4.0', 't1_RAND36_EF_0.0', 't1_RAND36_EF_1.0', 't1_RAND36_EF_2.0', 't1_RAND36_EF_3.0', 't1_RAND36_EF_4.0', 't1_RAND36_GH_0.0', 't1_RAND36_GH_1.0', 't1_RAND36_GH_2.0', 't1_RAND36_GH_3.0', 't1_RAND36_GH_4.0', 't1_RAND36_RP_0.0', 't1_RAND36_RP_1.0', 't1_RAND36_RP_2.0', 't1_RAND36_RP_3.0', 't1_RAND36_RP_4.0', 't1_RAND36_RE_0.0', 't1_RAND36_RE_1.0', 't1_RAND36_RE_3.0', 't1_RAND36_RE_4.0']\n"
     ]
    }
   ],
   "source": [
    "# Fetch the survey feature names in final preprocessed data set\n",
    "survey_list = ['AUDIT', 'c5_Disturbance', 'c3_Duration', 'c2_Latency', 'c7_Daytime_dysfunction', 'c6_Use_Medicatin', 'c1_Sleep_Quality', 'betel', 'coffee', 'smoke', 'insurance', 'eco_self', 'care_self', 'HF', 'fam_self', 'RAND36_SF', 'RAND36_PF', 'RAND36_EWB', 'RAND36_BP', 'RAND36_EF', 'RAND36_GH', 'RAND36_RP', 'RAND36_RE']\n",
    "prefixes = [\"t1_\"]\n",
    "final_survey_features = utils.add_prefix(survey_list, prefixes)\n",
    "\n",
    "# Find out all survey feature names with the one-hot encoding features\n",
    "X_train_columns = X_train.columns.tolist()\n",
    "expanded_features = {feature: [] for feature in final_survey_features}\n",
    "for col in X_train_columns:\n",
    "    for feature in final_survey_features:\n",
    "        if feature in col:\n",
    "            expanded_features[feature].append(col)\n",
    "\n",
    "all_survey_feature_names = []\n",
    "for cols in expanded_features.values():\n",
    "    all_survey_feature_names.extend(cols)\n",
    "\n",
    "print(\"all_survey_feature_names:\", all_survey_feature_names)"
   ]
  },
  {
   "cell_type": "code",
   "execution_count": 12,
   "metadata": {},
   "outputs": [
    {
     "name": "stdout",
     "output_type": "stream",
     "text": [
      "Other_feature_names: ['t1_age', 't1_waist_y', 't1_Glucose_AC_y', 't1_Triglyceride_y', 't1_HDL_C_y', 't1_AST_GOT', 't1_ALT_GPT', 't1_gamgt', 't1_Insulin', 't1_T_Cholesterol', 't1_LDL_C_direct', 't1_VLDL_C', 't1_Non_HDL_C', 't1_T_CHOL_HDL_C', 't1_LDL_C_HDL_C', 't1_HS_CRP', 't1_Hb_A1c', 't1_Uric_Acid', 't1_HOMA_IR', 't1_Adiponectin', 't1_Leptin', 't1_TotalVitaminD', 't1_BMI', 't1_hyper', 't1_fg', 't1_HDL', 't1_trig', 't1_sarcf', 't1_ms2', 't1_HBV_', 't1_HCV_', 't1_HBsAg_x_num', 't1_Anti_HCV_x_num', 't1_year_come', 't1_sex_0', 't1_sex_1', 't1_w_0', 't1_w_1', 't1_DM_determine_0', 't1_DM_determine_1', 't1_CKD_-1', 't1_CKD_1', 't1_CKD_2', 't1_CKD_3']\n"
     ]
    }
   ],
   "source": [
    "# All other features names\n",
    "other_feature_names = [col for col in X_train_columns if col not in all_survey_feature_names]\n",
    "\n",
    "print(\"Other_feature_names:\", other_feature_names)"
   ]
  },
  {
   "cell_type": "markdown",
   "metadata": {},
   "source": [
    "Tesor Dataset Preparation"
   ]
  },
  {
   "cell_type": "code",
   "execution_count": 17,
   "metadata": {},
   "outputs": [],
   "source": [
    "# Split features\n",
    "X1_train = X_train[all_survey_feature_names]\n",
    "X2_train = X_train[other_feature_names]\n",
    "X1_val = X_val[all_survey_feature_names]\n",
    "X2_val = X_val[other_feature_names]\n",
    "\n",
    "\n",
    "# transfer to torch tensor\n",
    "X1_train_tensor = torch.tensor(X1_train.values, dtype=torch.float32)\n",
    "X2_train_tensor = torch.tensor(X2_train.values, dtype=torch.float32)\n",
    "X1_val_tensor = torch.tensor(X1_val.values, dtype=torch.float32)\n",
    "X2_val_tensor = torch.tensor(X2_val.values, dtype=torch.float32)"
   ]
  },
  {
   "cell_type": "code",
   "execution_count": 18,
   "metadata": {},
   "outputs": [],
   "source": [
    "# Add Gaussian noise for X2 data\n",
    "noise_std = 0.1  \n",
    "\n",
    "noise_train = torch.randn_like(X2_train_tensor) * noise_std\n",
    "X2_train_noisy = X2_train_tensor + noise_train\n",
    "noise_val = torch.randn_like(X2_val_tensor) * noise_std\n",
    "X2_val_noisy = X2_val_tensor + noise_val"
   ]
  },
  {
   "cell_type": "code",
   "execution_count": 21,
   "metadata": {},
   "outputs": [
    {
     "data": {
      "text/plain": [
       "torch.Size([2820, 86])"
      ]
     },
     "execution_count": 21,
     "metadata": {},
     "output_type": "execute_result"
    }
   ],
   "source": [
    "# Survey features shape\n",
    "X1_train_tensor.shape"
   ]
  },
  {
   "cell_type": "code",
   "execution_count": 22,
   "metadata": {},
   "outputs": [
    {
     "data": {
      "text/plain": [
       "torch.Size([2820, 44])"
      ]
     },
     "execution_count": 22,
     "metadata": {},
     "output_type": "execute_result"
    }
   ],
   "source": [
    "# Non-survey feaures shape\n",
    "X2_train_tensor.shape"
   ]
  },
  {
   "cell_type": "markdown",
   "metadata": {},
   "source": [
    "Proposed Model applying contrastive learning with Guassian Noise"
   ]
  },
  {
   "cell_type": "code",
   "execution_count": 19,
   "metadata": {},
   "outputs": [],
   "source": [
    "# Encoders for generating Pos and Neg samples\n",
    "# Add Regularizer\n",
    "class Encoder1(nn.Module):\n",
    "    def __init__(self, input_dim, dropout_rate=0.5):\n",
    "        super(Encoder1, self).__init__()\n",
    "        self.encoder = nn.Sequential(\n",
    "            nn.Linear(input_dim, 256),\n",
    "            nn.ReLU(),\n",
    "            nn.BatchNorm1d(256),\n",
    "            nn.Dropout(dropout_rate),\n",
    "            nn.Linear(256, 128),\n",
    "            nn.ReLU(),\n",
    "            nn.BatchNorm1d(128),\n",
    "            nn.Dropout(dropout_rate),\n",
    "            nn.Linear(128, 64),\n",
    "            nn.BatchNorm1d(64)\n",
    "        )\n",
    "\n",
    "    def forward(self, x):\n",
    "        return self.encoder(x)\n",
    "\n",
    "class Encoder2(nn.Module):\n",
    "    def __init__(self, input_dim, dropout_rate=0.5):\n",
    "        super(Encoder2, self).__init__()\n",
    "        self.encoder = nn.Sequential(\n",
    "            nn.Linear(input_dim, 256),\n",
    "            nn.ReLU(),\n",
    "            nn.BatchNorm1d(256),\n",
    "            nn.Dropout(dropout_rate),\n",
    "            nn.Linear(256, 128),\n",
    "            nn.ReLU(),\n",
    "            nn.BatchNorm1d(128),\n",
    "            nn.Dropout(dropout_rate),\n",
    "            nn.Linear(128, 64),\n",
    "            nn.BatchNorm1d(64)\n",
    "        )\n",
    "\n",
    "    def forward(self, x):\n",
    "        return self.encoder(x)"
   ]
  },
  {
   "cell_type": "code",
   "execution_count": 20,
   "metadata": {},
   "outputs": [],
   "source": [
    "def info_nce_loss(features1, features2, temperature=0.1):\n",
    "  # feature normalization\n",
    "  features1 = F.normalize(features1, dim=1)\n",
    "  features2 = F.normalize(features2, dim=1)\n",
    "\n",
    "  # compute similarity matrix\n",
    "  similarity_matrix = torch.matmul(features1, features2.T)\n",
    "\n",
    "  # select positives and negatives\n",
    "  mask = torch.eye(similarity_matrix.shape[0], dtype=torch.bool)\n",
    "  positives = similarity_matrix[mask].view(similarity_matrix.shape[0], -1)\n",
    "  negatives = similarity_matrix[~mask].view(similarity_matrix.shape[0], -1)\n",
    "\n",
    "  logits = torch.cat([positives, negatives], dim=1)\n",
    "  labels = torch.zeros(logits.shape[0], dtype=torch.long)\n",
    "\n",
    "  logits = logits / temperature\n",
    "  return logits, labels"
   ]
  },
  {
   "cell_type": "code",
   "execution_count": 23,
   "metadata": {},
   "outputs": [],
   "source": [
    "batch_size = 64\n",
    "num_workers = 2\n",
    "\n",
    "# create data loader\n",
    "train_loader = DataLoader(TensorDataset(X1_train_tensor, X2_train_noisy), batch_size=batch_size, shuffle=True, num_workers=num_workers)\n",
    "val_loader = DataLoader(TensorDataset(X1_val_tensor, X2_val_noisy), batch_size=batch_size, shuffle=False, num_workers=num_workers)"
   ]
  },
  {
   "cell_type": "code",
   "execution_count": 24,
   "metadata": {},
   "outputs": [
    {
     "name": "stdout",
     "output_type": "stream",
     "text": [
      "torch.Size([64, 86])\n",
      "torch.Size([64, 44])\n"
     ]
    }
   ],
   "source": [
    "for X1_batch, X2_batch in train_loader:\n",
    "  # print(X1_batch, X2_batch)\n",
    "  print(X1_batch.shape)\n",
    "  print(X2_batch.shape)\n",
    "  break"
   ]
  },
  {
   "cell_type": "code",
   "execution_count": 25,
   "metadata": {},
   "outputs": [
    {
     "name": "stdout",
     "output_type": "stream",
     "text": [
      "X1_input_dim:  86 X2_input_dim:  44\n"
     ]
    }
   ],
   "source": [
    "# Model init\n",
    "X1_input_dim = X1_batch.shape[1]\n",
    "X2_input_dim = X2_batch.shape[1]\n",
    "print(\"X1_input_dim: \", X1_input_dim, \"X2_input_dim: \", X2_input_dim)\n",
    "\n",
    "wd = 1e-3\n",
    "lr = 0.001\n",
    "\n",
    "#define model\n",
    "encoder1 = Encoder1(input_dim=X1_input_dim)\n",
    "encoder2 = Encoder2(input_dim=X2_input_dim)\n",
    "\n",
    "criterion = nn.CrossEntropyLoss()\n",
    "optimizer1 = torch.optim.Adam(encoder1.parameters(), lr=lr, weight_decay=wd)\n",
    "optimizer2 = torch.optim.Adam(encoder2.parameters(), lr=lr, weight_decay=wd)\n",
    "\n",
    "def init_weights(m):\n",
    "        if type(m) == nn.Linear or type(m) == nn.Conv2d:\n",
    "            nn.init.xavier_uniform_(m.weight)"
   ]
  },
  {
   "cell_type": "code",
   "execution_count": 37,
   "metadata": {},
   "outputs": [],
   "source": [
    "# training for contrastive learning in epoch\n",
    "def train_epoch_cl(encoder1, encoder2, train_loader, optimizer1, optimizer2, criterion):\n",
    "    train_loss_sum, train_total = 0, 0\n",
    "    encoder1.train()\n",
    "    encoder2.train()\n",
    "    for X1, X2 in train_loader:\n",
    "        optimizer1.zero_grad()\n",
    "        optimizer2.zero_grad()\n",
    "        out1 = encoder1(X1)\n",
    "        out2 = encoder2(X2)\n",
    "        logits, labels = info_nce_loss(out1, out2)\n",
    "        loss = criterion(logits, labels)\n",
    "        loss.backward()\n",
    "        optimizer1.step()\n",
    "        optimizer2.step()\n",
    "        train_loss_sum += loss.item() * X1.size(0)\n",
    "        train_total += X1.size(0)\n",
    "    avg_train_loss = train_loss_sum / train_total\n",
    "    return avg_train_loss\n",
    "\t\n",
    "# evaluation function for contrastive learning model\n",
    "def evaluate_epoch_cl(encoder1, encoder2, val_loader, criterion):\n",
    "    val_loss_sum, val_total = 0, 0\n",
    "    encoder1.eval()\n",
    "    encoder2.eval()\n",
    "    with torch.no_grad():\n",
    "        for X1, X2 in val_loader:\n",
    "            out1 = encoder1(X1)\n",
    "            out2 = encoder2(X2)\n",
    "            logits, labels = info_nce_loss(out1, out2)\n",
    "            loss = criterion(logits, labels)\n",
    "            val_loss_sum += loss.item() * X1.size(0)\n",
    "            val_total += X1.size(0)\n",
    "    avg_val_loss = val_loss_sum / val_total\n",
    "    return avg_val_loss\n",
    "\t"
   ]
  },
  {
   "cell_type": "code",
   "execution_count": 50,
   "metadata": {},
   "outputs": [],
   "source": [
    "import random\n",
    "def set_seed(seed=42):\n",
    "   \n",
    "    random.seed(seed)\n",
    "    np.random.seed(seed)\n",
    "    torch.manual_seed(seed)\n",
    "    torch.cuda.manual_seed(seed)\n",
    "    torch.cuda.manual_seed_all(seed) \n",
    "set_seed(2024)"
   ]
  },
  {
   "cell_type": "code",
   "execution_count": 55,
   "metadata": {},
   "outputs": [
    {
     "name": "stdout",
     "output_type": "stream",
     "text": [
      "Epoch [1/100], Average training Loss: 4.3029\n",
      "Epoch [1/100], Average validation Loss: 4.1010\n",
      "Epoch [2/100], Average training Loss: 4.1703\n",
      "Epoch [2/100], Average validation Loss: 4.0110\n",
      "Epoch [3/100], Average training Loss: 4.0861\n",
      "Epoch [3/100], Average validation Loss: 3.9450\n",
      "Epoch [4/100], Average training Loss: 4.0080\n",
      "Epoch [4/100], Average validation Loss: 3.8794\n",
      "Epoch [5/100], Average training Loss: 3.9623\n",
      "Epoch [5/100], Average validation Loss: 3.8144\n",
      "Epoch [6/100], Average training Loss: 3.9044\n",
      "Epoch [6/100], Average validation Loss: 3.7704\n",
      "Epoch [7/100], Average training Loss: 3.8545\n",
      "Epoch [7/100], Average validation Loss: 3.7121\n",
      "Epoch [8/100], Average training Loss: 3.7936\n",
      "Epoch [8/100], Average validation Loss: 3.6803\n",
      "Epoch [9/100], Average training Loss: 3.7626\n",
      "Epoch [9/100], Average validation Loss: 3.6486\n",
      "Epoch [10/100], Average training Loss: 3.7090\n",
      "Epoch [10/100], Average validation Loss: 3.6211\n",
      "Epoch [11/100], Average training Loss: 3.6912\n",
      "Epoch [11/100], Average validation Loss: 3.5872\n",
      "Epoch [12/100], Average training Loss: 3.6327\n",
      "Epoch [12/100], Average validation Loss: 3.5661\n",
      "Epoch [13/100], Average training Loss: 3.6400\n",
      "Epoch [13/100], Average validation Loss: 3.5515\n",
      "Epoch [14/100], Average training Loss: 3.5963\n",
      "Epoch [14/100], Average validation Loss: 3.5277\n",
      "Epoch [15/100], Average training Loss: 3.5893\n",
      "Epoch [15/100], Average validation Loss: 3.5067\n",
      "Epoch [16/100], Average training Loss: 3.5310\n",
      "Epoch [16/100], Average validation Loss: 3.4941\n",
      "Epoch [17/100], Average training Loss: 3.5089\n",
      "Epoch [17/100], Average validation Loss: 3.4821\n",
      "Epoch [18/100], Average training Loss: 3.5039\n",
      "Epoch [18/100], Average validation Loss: 3.4790\n",
      "Epoch [19/100], Average training Loss: 3.4869\n",
      "Epoch [19/100], Average validation Loss: 3.4704\n",
      "Epoch [20/100], Average training Loss: 3.4883\n",
      "Epoch [20/100], Average validation Loss: 3.4626\n",
      "Epoch [21/100], Average training Loss: 3.4556\n",
      "Epoch [21/100], Average validation Loss: 3.4517\n",
      "Epoch [22/100], Average training Loss: 3.4267\n",
      "Epoch [22/100], Average validation Loss: 3.4454\n",
      "Epoch [23/100], Average training Loss: 3.4397\n",
      "Epoch [23/100], Average validation Loss: 3.4595\n",
      "Epoch [24/100], Average training Loss: 3.4229\n",
      "Epoch [24/100], Average validation Loss: 3.4422\n",
      "Epoch [25/100], Average training Loss: 3.4057\n",
      "Epoch [25/100], Average validation Loss: 3.4378\n",
      "Epoch [26/100], Average training Loss: 3.3911\n",
      "Epoch [26/100], Average validation Loss: 3.4392\n",
      "Epoch [27/100], Average training Loss: 3.3944\n",
      "Epoch [27/100], Average validation Loss: 3.4414\n",
      "Epoch [28/100], Average training Loss: 3.3956\n",
      "Epoch [28/100], Average validation Loss: 3.4570\n",
      "Epoch [29/100], Average training Loss: 3.3565\n",
      "Epoch [29/100], Average validation Loss: 3.4532\n",
      "Epoch [30/100], Average training Loss: 3.3373\n",
      "Epoch [30/100], Average validation Loss: 3.4531\n",
      "Early stopping triggered at Epoch 30\n",
      "Epoch [31/100], Average training Loss: 3.3450\n",
      "Epoch [31/100], Average validation Loss: 3.4613\n",
      "Epoch [32/100], Average training Loss: 3.3450\n",
      "Epoch [32/100], Average validation Loss: 3.4615\n",
      "Epoch [33/100], Average training Loss: 3.2901\n",
      "Epoch [33/100], Average validation Loss: 3.4762\n",
      "Epoch [34/100], Average training Loss: 3.3084\n",
      "Epoch [34/100], Average validation Loss: 3.4516\n",
      "Epoch [35/100], Average training Loss: 3.2886\n",
      "Epoch [35/100], Average validation Loss: 3.4705\n",
      "Epoch [36/100], Average training Loss: 3.2775\n",
      "Epoch [36/100], Average validation Loss: 3.4684\n",
      "Epoch [37/100], Average training Loss: 3.2772\n",
      "Epoch [37/100], Average validation Loss: 3.4654\n",
      "Epoch [38/100], Average training Loss: 3.2601\n",
      "Epoch [38/100], Average validation Loss: 3.4439\n",
      "Epoch [39/100], Average training Loss: 3.2707\n",
      "Epoch [39/100], Average validation Loss: 3.4659\n",
      "Epoch [40/100], Average training Loss: 3.2769\n",
      "Epoch [40/100], Average validation Loss: 3.4591\n",
      "Epoch [41/100], Average training Loss: 3.2415\n",
      "Epoch [41/100], Average validation Loss: 3.4722\n",
      "Epoch [42/100], Average training Loss: 3.2332\n",
      "Epoch [42/100], Average validation Loss: 3.4513\n",
      "Epoch [43/100], Average training Loss: 3.1997\n",
      "Epoch [43/100], Average validation Loss: 3.4655\n",
      "Epoch [44/100], Average training Loss: 3.1952\n",
      "Epoch [44/100], Average validation Loss: 3.4833\n",
      "Epoch [45/100], Average training Loss: 3.2028\n",
      "Epoch [45/100], Average validation Loss: 3.4614\n",
      "Epoch [46/100], Average training Loss: 3.2447\n",
      "Epoch [46/100], Average validation Loss: 3.4739\n",
      "Epoch [47/100], Average training Loss: 3.2243\n",
      "Epoch [47/100], Average validation Loss: 3.4492\n",
      "Epoch [48/100], Average training Loss: 3.2297\n",
      "Epoch [48/100], Average validation Loss: 3.4511\n",
      "Epoch [49/100], Average training Loss: 3.2142\n",
      "Epoch [49/100], Average validation Loss: 3.4548\n",
      "Epoch [50/100], Average training Loss: 3.2019\n",
      "Epoch [50/100], Average validation Loss: 3.4544\n",
      "Epoch [51/100], Average training Loss: 3.1697\n",
      "Epoch [51/100], Average validation Loss: 3.4642\n",
      "Epoch [52/100], Average training Loss: 3.1865\n",
      "Epoch [52/100], Average validation Loss: 3.4654\n",
      "Epoch [53/100], Average training Loss: 3.1759\n",
      "Epoch [53/100], Average validation Loss: 3.4786\n",
      "Epoch [54/100], Average training Loss: 3.1659\n",
      "Epoch [54/100], Average validation Loss: 3.4650\n",
      "Epoch [55/100], Average training Loss: 3.1519\n",
      "Epoch [55/100], Average validation Loss: 3.4858\n",
      "Epoch [56/100], Average training Loss: 3.1573\n",
      "Epoch [56/100], Average validation Loss: 3.4908\n",
      "Epoch [57/100], Average training Loss: 3.1561\n",
      "Epoch [57/100], Average validation Loss: 3.4951\n",
      "Epoch [58/100], Average training Loss: 3.1794\n",
      "Epoch [58/100], Average validation Loss: 3.4841\n",
      "Epoch [59/100], Average training Loss: 3.1497\n",
      "Epoch [59/100], Average validation Loss: 3.4839\n",
      "Epoch [60/100], Average training Loss: 3.1464\n",
      "Epoch [60/100], Average validation Loss: 3.4736\n",
      "Epoch [61/100], Average training Loss: 3.1253\n",
      "Epoch [61/100], Average validation Loss: 3.4943\n",
      "Epoch [62/100], Average training Loss: 3.1104\n",
      "Epoch [62/100], Average validation Loss: 3.5057\n",
      "Epoch [63/100], Average training Loss: 3.1357\n",
      "Epoch [63/100], Average validation Loss: 3.4940\n",
      "Epoch [64/100], Average training Loss: 3.1079\n",
      "Epoch [64/100], Average validation Loss: 3.4998\n",
      "Epoch [65/100], Average training Loss: 3.1288\n",
      "Epoch [65/100], Average validation Loss: 3.4898\n",
      "Epoch [66/100], Average training Loss: 3.1092\n",
      "Epoch [66/100], Average validation Loss: 3.4856\n",
      "Epoch [67/100], Average training Loss: 3.1027\n",
      "Epoch [67/100], Average validation Loss: 3.4817\n",
      "Epoch [68/100], Average training Loss: 3.1248\n",
      "Epoch [68/100], Average validation Loss: 3.4623\n",
      "Epoch [69/100], Average training Loss: 3.0975\n",
      "Epoch [69/100], Average validation Loss: 3.4891\n",
      "Epoch [70/100], Average training Loss: 3.1134\n",
      "Epoch [70/100], Average validation Loss: 3.4631\n",
      "Epoch [71/100], Average training Loss: 3.0864\n",
      "Epoch [71/100], Average validation Loss: 3.4818\n",
      "Epoch [72/100], Average training Loss: 3.0983\n",
      "Epoch [72/100], Average validation Loss: 3.4639\n",
      "Epoch [73/100], Average training Loss: 3.0692\n",
      "Epoch [73/100], Average validation Loss: 3.4577\n",
      "Epoch [74/100], Average training Loss: 3.0997\n",
      "Epoch [74/100], Average validation Loss: 3.4699\n",
      "Epoch [75/100], Average training Loss: 3.0666\n",
      "Epoch [75/100], Average validation Loss: 3.4883\n",
      "Epoch [76/100], Average training Loss: 3.0771\n",
      "Epoch [76/100], Average validation Loss: 3.5130\n",
      "Epoch [77/100], Average training Loss: 3.0602\n",
      "Epoch [77/100], Average validation Loss: 3.4850\n",
      "Epoch [78/100], Average training Loss: 3.0472\n",
      "Epoch [78/100], Average validation Loss: 3.5149\n",
      "Epoch [79/100], Average training Loss: 3.0527\n",
      "Epoch [79/100], Average validation Loss: 3.5272\n",
      "Epoch [80/100], Average training Loss: 3.0833\n",
      "Epoch [80/100], Average validation Loss: 3.4817\n",
      "Epoch [81/100], Average training Loss: 3.0208\n",
      "Epoch [81/100], Average validation Loss: 3.5103\n",
      "Epoch [82/100], Average training Loss: 3.0341\n",
      "Epoch [82/100], Average validation Loss: 3.5126\n",
      "Epoch [83/100], Average training Loss: 3.0447\n",
      "Epoch [83/100], Average validation Loss: 3.5277\n",
      "Epoch [84/100], Average training Loss: 3.0307\n",
      "Epoch [84/100], Average validation Loss: 3.5169\n",
      "Epoch [85/100], Average training Loss: 3.0073\n",
      "Epoch [85/100], Average validation Loss: 3.5308\n",
      "Epoch [86/100], Average training Loss: 3.0464\n",
      "Epoch [86/100], Average validation Loss: 3.5328\n",
      "Epoch [87/100], Average training Loss: 3.0376\n",
      "Epoch [87/100], Average validation Loss: 3.5095\n",
      "Epoch [88/100], Average training Loss: 3.0241\n",
      "Epoch [88/100], Average validation Loss: 3.5273\n",
      "Epoch [89/100], Average training Loss: 3.0417\n",
      "Epoch [89/100], Average validation Loss: 3.5097\n",
      "Epoch [90/100], Average training Loss: 3.0372\n",
      "Epoch [90/100], Average validation Loss: 3.5072\n",
      "Epoch [91/100], Average training Loss: 3.0041\n",
      "Epoch [91/100], Average validation Loss: 3.4985\n",
      "Epoch [92/100], Average training Loss: 3.0347\n",
      "Epoch [92/100], Average validation Loss: 3.5239\n",
      "Epoch [93/100], Average training Loss: 3.0375\n",
      "Epoch [93/100], Average validation Loss: 3.4905\n",
      "Epoch [94/100], Average training Loss: 3.0060\n",
      "Epoch [94/100], Average validation Loss: 3.5012\n",
      "Epoch [95/100], Average training Loss: 3.0402\n",
      "Epoch [95/100], Average validation Loss: 3.5049\n",
      "Epoch [96/100], Average training Loss: 3.0406\n",
      "Epoch [96/100], Average validation Loss: 3.4783\n",
      "Epoch [97/100], Average training Loss: 3.0222\n",
      "Epoch [97/100], Average validation Loss: 3.5096\n",
      "Epoch [98/100], Average training Loss: 3.0059\n",
      "Epoch [98/100], Average validation Loss: 3.5012\n",
      "Epoch [99/100], Average training Loss: 2.9853\n",
      "Epoch [99/100], Average validation Loss: 3.5111\n",
      "Epoch [100/100], Average training Loss: 2.9975\n",
      "Epoch [100/100], Average validation Loss: 3.5186\n"
     ]
    }
   ],
   "source": [
    "encoder1.apply(init_weights)\n",
    "encoder2.apply(init_weights)\n",
    "num_epochs = 100\n",
    "\n",
    "train_losses = []\n",
    "val_losses = []\n",
    "best_val_loss = float('inf')\n",
    "patience_counter = 0\n",
    "patience = 5\n",
    "early_stopping_triggered = False\n",
    "saved_epoch = 0\n",
    "\n",
    "for epoch in range(num_epochs):\n",
    "    avg_train_loss = train_epoch_cl(encoder1, encoder2, train_loader, optimizer1, optimizer2, criterion)\n",
    "    train_losses.append(avg_train_loss)\n",
    "    print(f'Epoch [{epoch+1}/{num_epochs}], Average training Loss: {avg_train_loss:.4f}')\n",
    "\n",
    "    avg_val_loss = evaluate_epoch_cl(encoder1, encoder2, val_loader, criterion)\n",
    "    val_losses.append(avg_val_loss)\n",
    "    print(f'Epoch [{epoch+1}/{num_epochs}], Average validation Loss: {avg_val_loss:.4f}')\n",
    "\n",
    "    if avg_val_loss < best_val_loss:\n",
    "        best_val_loss = avg_val_loss\n",
    "        patience_counter = 0 \n",
    "        torch.save(encoder1.state_dict(), 'best_encoder1.pth')\n",
    "        torch.save(encoder2.state_dict(), 'best_encoder2.pth')\n",
    "        saved_epoch = epoch + 1\n",
    "    else:\n",
    "        patience_counter += 1\n",
    "    \n",
    "    if patience_counter >= patience:\n",
    "        if not early_stopping_triggered:\n",
    "            print(f\"Early stopping triggered at Epoch {epoch+1}\")\n",
    "            early_stopping_triggered = True"
   ]
  },
  {
   "cell_type": "code",
   "execution_count": 56,
   "metadata": {},
   "outputs": [
    {
     "data": {
      "image/png": "[encoded data removed]",
      "text/plain": [
       "<Figure size 1000x600 with 1 Axes>"
      ]
     },
     "metadata": {},
     "output_type": "display_data"
    },
    {
     "name": "stdout",
     "output_type": "stream",
     "text": [
      "Model parameters were saved at Epoch 25 when early stopping was triggered.\n"
     ]
    }
   ],
   "source": [
    "# Plot\n",
    "import matplotlib.pyplot as plt\n",
    "\n",
    "epochs = range(1, num_epochs  + 1)\n",
    "\n",
    "plt.figure(figsize=(10, 6))\n",
    "plt.plot(epochs, train_losses, 'o-', label='Training Loss')\n",
    "plt.plot(epochs, val_losses, 'o-', label='Validation Loss')\n",
    "plt.title('Training and Validation Loss')\n",
    "plt.xlabel('Epoch')\n",
    "plt.ylabel('Loss')\n",
    "plt.legend()\n",
    "plt.show()\n",
    "\n",
    "if early_stopping_triggered:\n",
    "    print(f\"Model parameters were saved at Epoch {saved_epoch} when early stopping was triggered.\")\n",
    "else:\n",
    "    print(\"Training completed without early stopping.\")"
   ]
  },
  {
   "cell_type": "markdown",
   "metadata": {},
   "source": [
    "Downstream Task Implementation and Comparison"
   ]
  },
  {
   "cell_type": "code",
   "execution_count": 29,
   "metadata": {},
   "outputs": [],
   "source": [
    "def calculate_auc(y_true, y_prob):\n",
    "  n_classes = len(np.unique(y_true))\n",
    "  y_ture_binarized = label_binarize(y_true.values, classes=np.arange(n_classes))\n",
    "\n",
    "  auc_scores = roc_auc_score(y_ture_binarized, y_prob, multi_class='ovr', average=None)\n",
    "  for i, auc_score in enumerate(auc_scores):\n",
    "    print(f\"Class {i} AUC: {auc_score:.4f}\")\n",
    "  overall_auc_macro = roc_auc_score(y_ture_binarized, y_prob, multi_class='ovr', average='macro')\n",
    "  print(f\"Overall AUC (Macro-average): {overall_auc_macro:.4f}\")\n",
    "  return"
   ]
  },
  {
   "cell_type": "code",
   "execution_count": 57,
   "metadata": {},
   "outputs": [
    {
     "name": "stdout",
     "output_type": "stream",
     "text": [
      "Test Accuracy: 24.83%\n",
      "Class 0 AUC: 0.7221\n",
      "Class 1 AUC: 0.9402\n",
      "Class 2 AUC: 0.7146\n",
      "Class 3 AUC: 0.9249\n",
      "Class 4 AUC: 0.9994\n",
      "Overall AUC (Macro-average): 0.8602\n"
     ]
    }
   ],
   "source": [
    "# Train for all features with embedding in Test set\n",
    "from sklearn.linear_model import LogisticRegression\n",
    "from sklearn.naive_bayes import GaussianNB\n",
    "# Logistic Regression\n",
    "X1_test_tensor = torch.FloatTensor(X_test[all_survey_feature_names].values)\n",
    "with torch.no_grad():\n",
    "    # encoded_X_train = encoder1(X1_train_tensor)\n",
    "    encoded_X_test = encoder1(X1_test_tensor)\n",
    "encoded_X_test_np = encoded_X_test.numpy()\n",
    "y_test_np = y_test.values\n",
    "\n",
    "# Train for all features with embedding\n",
    "X_test_others_np = X_test[other_feature_names]\n",
    "combined_features = np.concatenate([encoded_X_test_np, X_test_others_np], axis=1)\n",
    "# lr = LogisticRegression(max_iter=500, multi_class='multinomial', solver='lbfgs')\n",
    "# lr.fit(combined_features, y_test_np)\n",
    "gnb = GaussianNB(var_smoothing=1e-9)\n",
    "gnb.fit(combined_features, y_test_np)\n",
    "\n",
    "test_accuracy = gnb.score(combined_features, y_test_np)\n",
    "print(f\"Test Accuracy: {test_accuracy * 100:.2f}%\")\n",
    "\n",
    "y_test_proba = gnb.predict_proba(combined_features)\n",
    "calculate_auc(y_test, y_test_proba)"
   ]
  },
  {
   "cell_type": "code",
   "execution_count": 58,
   "metadata": {},
   "outputs": [
    {
     "name": "stdout",
     "output_type": "stream",
     "text": [
      "Test Accuracy: 9.30%\n",
      "Class 0 AUC: 0.4970\n",
      "Class 1 AUC: 0.5949\n",
      "Class 2 AUC: 0.5779\n",
      "Class 3 AUC: 0.6570\n",
      "Class 4 AUC: 0.5675\n",
      "Overall AUC (Macro-average): 0.5789\n"
     ]
    }
   ],
   "source": [
    "# Comparision\n",
    "# Run regression for all data without embedding by contrastive learning with guassian noise\n",
    "gnb_c = GaussianNB(var_smoothing=1e-9)\n",
    "gnb_c.fit(X_train, y_train)\n",
    "print(f\"Test Accuracy: {gnb_c.score(X_test, y_test) * 100:.2f}%\")\n",
    "\n",
    "y_test_proba = gnb_c.predict_proba(X_test)\n",
    "calculate_auc(y_test, y_test_proba)"
   ]
  }
 ],
 "metadata": {
  "kernelspec": {
   "display_name": "fld",
   "language": "python",
   "name": "python3"
  },
  "language_info": {
   "codemirror_mode": {
    "name": "ipython",
    "version": 3
   },
   "file_extension": ".py",
   "mimetype": "text/x-python",
   "name": "python",
   "nbconvert_exporter": "python",
   "pygments_lexer": "ipython3",
   "version": "3.7.4"
  }
 },
 "nbformat": 4,
 "nbformat_minor": 2
}
